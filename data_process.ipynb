{
 "cells": [
  {
   "cell_type": "markdown",
   "metadata": {},
   "source": [
    "# 0. 生成一个B 的空 label"
   ]
  },
  {
   "cell_type": "code",
   "execution_count": 5,
   "metadata": {},
   "outputs": [],
   "source": [
    "import numpy as np"
   ]
  },
  {
   "cell_type": "code",
   "execution_count": 6,
   "metadata": {},
   "outputs": [
    {
     "data": {
      "text/plain": [
       "(4307,)"
      ]
     },
     "execution_count": 6,
     "metadata": {},
     "output_type": "execute_result"
    }
   ],
   "source": [
    "data = np.zeros(4307)\n",
    "data.shape"
   ]
  },
  {
   "cell_type": "code",
   "execution_count": 7,
   "metadata": {},
   "outputs": [
    {
     "data": {
      "text/plain": [
       "array([0., 0., 0., ..., 0., 0., 0.])"
      ]
     },
     "execution_count": 7,
     "metadata": {},
     "output_type": "execute_result"
    }
   ],
   "source": [
    "data"
   ]
  },
  {
   "cell_type": "code",
   "execution_count": 4,
   "metadata": {},
   "outputs": [],
   "source": [
    "np.save('../data/test_C_label.npy', data)\n"
   ]
  },
  {
   "cell_type": "markdown",
   "metadata": {},
   "source": [
    "# 1. 祛除空数据"
   ]
  },
  {
   "cell_type": "code",
   "execution_count": 8,
   "metadata": {},
   "outputs": [],
   "source": [
    "import numpy as np"
   ]
  },
  {
   "cell_type": "code",
   "execution_count": 63,
   "metadata": {},
   "outputs": [],
   "source": [
    "# 填写官方提供的数据集生成的 bone\n",
    "#data = np.load('../data/train_angle_(FR_Head).npy')\n",
    "#data_val = np.load('../data/val_angle_(FR_Head).npy')\n",
    "#data_test = np.load('../data/test_angle.npy')\n",
    "data = np.load('../data/test_C_angle.npy')\n"
   ]
  },
  {
   "cell_type": "code",
   "execution_count": 64,
   "metadata": {},
   "outputs": [
    {
     "data": {
      "text/plain": [
       "(4307, 9, 300, 17, 2)"
      ]
     },
     "execution_count": 64,
     "metadata": {},
     "output_type": "execute_result"
    }
   ],
   "source": [
    "#data[0].shape\n",
    "data.shape\n",
    "#data_val.shape\n",
    "#data_test.shape"
   ]
  },
  {
   "cell_type": "code",
   "execution_count": 96,
   "metadata": {},
   "outputs": [],
   "source": [
    "def get_index(data, index):\n",
    "    data_numpy = data[index]\n",
    "    data_numpy = np.array(data_numpy)\n",
    "    valid_frame_num = np.sum(data_numpy.sum(0).sum(-1).sum(-1) != 0)\n",
    "\n",
    "    # has_nan = np.isnan(data).any()\n",
    "    # if has_nan:\n",
    "    #     print(index)\n",
    "    \n",
    "    if valid_frame_num == 0:\n",
    "        # 返回一个全零的样本（根据实际数据的形状），确保shape一致\n",
    "        #C, _, V, M = data_numpy.shape\n",
    "        data_numpy = np.zeros((3, 64, 17, 2))  # 填充为零，形状需根据实际数据调整\n",
    "        label = 0  # 设定默认标签\n",
    "        index = index  # 直接返回当前索引\n",
    "        print(index)\n",
    "        return data_numpy, index"
   ]
  },
  {
   "cell_type": "code",
   "execution_count": 97,
   "metadata": {},
   "outputs": [
    {
     "name": "stdout",
     "output_type": "stream",
     "text": [
      "70\n",
      "303\n",
      "332\n",
      "423\n",
      "541\n",
      "590\n",
      "655\n",
      "707\n",
      "966\n",
      "1151\n",
      "1335\n",
      "1458\n",
      "1592\n",
      "1660\n",
      "1715\n",
      "1759\n",
      "1760\n",
      "1775\n",
      "1880\n",
      "1920\n",
      "1928\n",
      "2264\n",
      "2439\n",
      "2484\n",
      "2490\n",
      "2533\n",
      "2539\n",
      "2602\n",
      "2652\n",
      "2718\n",
      "2877\n",
      "3088\n",
      "3136\n",
      "3441\n",
      "3529\n",
      "3587\n",
      "3703\n",
      "3870\n",
      "3887\n",
      "3951\n",
      "4072\n",
      "4223\n",
      "4256\n",
      "4780\n",
      "4871\n",
      "5021\n",
      "5500\n",
      "5610\n",
      "5740\n",
      "6280\n",
      "6379\n",
      "6581\n",
      "6655\n",
      "6713\n",
      "6864\n",
      "7000\n",
      "7309\n",
      "7411\n",
      "7506\n",
      "7523\n",
      "7524\n",
      "7634\n",
      "7692\n",
      "7877\n",
      "8237\n",
      "8241\n",
      "8273\n",
      "8278\n",
      "8388\n",
      "8401\n",
      "8518\n",
      "8746\n",
      "8806\n",
      "8992\n",
      "9066\n",
      "9092\n",
      "9109\n",
      "9492\n",
      "9756\n",
      "9788\n",
      "10123\n",
      "10275\n",
      "10457\n",
      "10573\n",
      "10692\n",
      "10697\n",
      "10707\n",
      "10871\n",
      "11375\n",
      "11446\n",
      "11553\n",
      "11839\n",
      "11861\n",
      "12184\n",
      "12215\n",
      "12400\n",
      "12662\n",
      "12785\n",
      "12818\n",
      "12847\n",
      "12987\n",
      "13002\n",
      "13109\n",
      "13150\n",
      "13360\n",
      "13508\n",
      "13690\n",
      "13808\n",
      "13966\n",
      "13972\n",
      "14011\n",
      "14083\n",
      "14257\n",
      "14537\n",
      "14859\n",
      "15116\n",
      "15130\n",
      "15220\n",
      "15327\n",
      "15862\n",
      "16029\n",
      "16275\n",
      "16284\n",
      "16361\n",
      "16385\n",
      "16584\n",
      "16618\n"
     ]
    }
   ],
   "source": [
    "for index in range(data.shape[0]):\n",
    "    get_index(data, index)"
   ]
  },
  {
   "cell_type": "code",
   "execution_count": 98,
   "metadata": {},
   "outputs": [
    {
     "data": {
      "text/plain": [
       "(16723,)"
      ]
     },
     "execution_count": 98,
     "metadata": {},
     "output_type": "execute_result"
    }
   ],
   "source": [
    "data_ = np.delete(data, 13638, axis=0)\n",
    "data_.shape"
   ]
  },
  {
   "cell_type": "code",
   "execution_count": 99,
   "metadata": {},
   "outputs": [],
   "source": [
    "np.save('../data/train_label1.npy', data_)"
   ]
  },
  {
   "cell_type": "code",
   "execution_count": 100,
   "metadata": {},
   "outputs": [
    {
     "data": {
      "text/plain": [
       "(16723,)"
      ]
     },
     "execution_count": 100,
     "metadata": {},
     "output_type": "execute_result"
    }
   ],
   "source": [
    "data = np.load('../data/train_label1.npy')\n",
    "data.shape"
   ]
  },
  {
   "cell_type": "code",
   "execution_count": 101,
   "metadata": {},
   "outputs": [
    {
     "name": "stdout",
     "output_type": "stream",
     "text": [
      "70\n",
      "303\n",
      "332\n",
      "423\n",
      "541\n",
      "590\n",
      "655\n",
      "707\n",
      "966\n",
      "1151\n",
      "1335\n",
      "1458\n",
      "1592\n",
      "1660\n",
      "1715\n",
      "1759\n",
      "1760\n",
      "1775\n",
      "1880\n",
      "1920\n",
      "1928\n",
      "2264\n",
      "2439\n",
      "2484\n",
      "2490\n",
      "2533\n",
      "2539\n",
      "2602\n",
      "2652\n",
      "2718\n",
      "2877\n",
      "3088\n",
      "3136\n",
      "3441\n",
      "3529\n",
      "3587\n",
      "3703\n",
      "3870\n",
      "3887\n",
      "3951\n",
      "4072\n",
      "4223\n",
      "4256\n",
      "4780\n",
      "4871\n",
      "5021\n",
      "5500\n",
      "5610\n",
      "5740\n",
      "6280\n",
      "6379\n",
      "6581\n",
      "6655\n",
      "6713\n",
      "6864\n",
      "7000\n",
      "7309\n",
      "7411\n",
      "7506\n",
      "7523\n",
      "7524\n",
      "7634\n",
      "7692\n",
      "7877\n",
      "8237\n",
      "8241\n",
      "8273\n",
      "8278\n",
      "8388\n",
      "8401\n",
      "8518\n",
      "8746\n",
      "8806\n",
      "8992\n",
      "9066\n",
      "9092\n",
      "9109\n",
      "9492\n",
      "9756\n",
      "9788\n",
      "10123\n",
      "10275\n",
      "10457\n",
      "10573\n",
      "10692\n",
      "10697\n",
      "10707\n",
      "10871\n",
      "11375\n",
      "11446\n",
      "11553\n",
      "11839\n",
      "11861\n",
      "12184\n",
      "12215\n",
      "12400\n",
      "12662\n",
      "12785\n",
      "12818\n",
      "12847\n",
      "12987\n",
      "13002\n",
      "13109\n",
      "13150\n",
      "13360\n",
      "13508\n",
      "13689\n",
      "13807\n",
      "13965\n",
      "13971\n",
      "14010\n",
      "14082\n",
      "14256\n",
      "14536\n",
      "14858\n",
      "15115\n",
      "15129\n",
      "15219\n",
      "15326\n",
      "15861\n",
      "16028\n",
      "16274\n",
      "16283\n",
      "16360\n",
      "16384\n",
      "16583\n",
      "16617\n"
     ]
    }
   ],
   "source": [
    "for index in range(data.shape[0]):\n",
    "    get_index(data, index)"
   ]
  },
  {
   "cell_type": "code",
   "execution_count": null,
   "metadata": {},
   "outputs": [],
   "source": []
  }
 ],
 "metadata": {
  "kernelspec": {
   "display_name": "wsc-bone",
   "language": "python",
   "name": "python3"
  },
  "language_info": {
   "codemirror_mode": {
    "name": "ipython",
    "version": 3
   },
   "file_extension": ".py",
   "mimetype": "text/x-python",
   "name": "python",
   "nbconvert_exporter": "python",
   "pygments_lexer": "ipython3",
   "version": "3.8.20"
  }
 },
 "nbformat": 4,
 "nbformat_minor": 2
}
